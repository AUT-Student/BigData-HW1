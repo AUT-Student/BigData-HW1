{
  "nbformat": 4,
  "nbformat_minor": 0,
  "metadata": {
    "colab": {
      "name": "BigData_HW1_Q2.ipynb",
      "provenance": [],
      "authorship_tag": "ABX9TyPA3vUEam+1/RY+kM3IMEYB",
      "include_colab_link": true
    },
    "kernelspec": {
      "name": "python3",
      "display_name": "Python 3"
    },
    "language_info": {
      "name": "python"
    }
  },
  "cells": [
    {
      "cell_type": "markdown",
      "metadata": {
        "id": "view-in-github",
        "colab_type": "text"
      },
      "source": [
        "<a href=\"https://colab.research.google.com/github/AUT-Student/BigData-HW1/blob/main/BigData_HW1_Q2.ipynb\" target=\"_parent\"><img src=\"https://colab.research.google.com/assets/colab-badge.svg\" alt=\"Open In Colab\"/></a>"
      ]
    },
    {
      "cell_type": "markdown",
      "source": [
        "# Load and Prepare Dataset"
      ],
      "metadata": {
        "id": "w8XVCHmNRmAp"
      }
    },
    {
      "cell_type": "code",
      "execution_count": 1,
      "metadata": {
        "colab": {
          "base_uri": "https://localhost:8080/"
        },
        "id": "qfmx2q5rQ625",
        "outputId": "70e40ff1-6ecb-46b8-9b96-31fef5bbeeda"
      },
      "outputs": [
        {
          "output_type": "stream",
          "name": "stdout",
          "text": [
            "Archive:  hw1.zip\n",
            "   creating: hw1-files/\n",
            "   creating: hw1-files/q3/\n",
            "  inflating: hw1-files/q3/patches.csv  \n",
            "  inflating: hw1-files/q3/lsh.py     \n",
            "   creating: hw1-files/q1/\n",
            "  inflating: hw1-files/q1/dataset1.txt  \n",
            "   creating: hw1-files/q1/.ipynb_checkpoints/\n",
            "   creating: hw1-files/q2/\n",
            "  inflating: hw1-files/q2/games_library.txt  \n",
            "   creating: hw1-files/.ipynb_checkpoints/\n"
          ]
        }
      ],
      "source": [
        "from pydrive.auth import GoogleAuth\n",
        "from pydrive.drive import GoogleDrive\n",
        "from google.colab import auth\n",
        "from oauth2client.client import GoogleCredentials\n",
        "\n",
        "# Authenticate and create the PyDrive client\n",
        "auth.authenticate_user()\n",
        "gauth = GoogleAuth()\n",
        "gauth.credentials = GoogleCredentials.get_application_default()\n",
        "drive = GoogleDrive(gauth)\n",
        "\n",
        "id='1-OCBGBtKoY_PadKHcXDyWxHQ2BS8Nulo'\n",
        "downloaded = drive.CreateFile({'id': id})\n",
        "downloaded.GetContentFile('hw1.zip')\n",
        "\n",
        "!unzip hw1.zip"
      ]
    },
    {
      "cell_type": "code",
      "source": [
        "!head /content/hw1-files/q2/games_library.txt"
      ],
      "metadata": {
        "colab": {
          "base_uri": "https://localhost:8080/"
        },
        "id": "BSwvJcl9RqnB",
        "outputId": "d472e539-295a-4602-9247-c431bd92d46a"
      },
      "execution_count": 2,
      "outputs": [
        {
          "output_type": "stream",
          "name": "stdout",
          "text": [
            "Far_Cry_6 God_of_War Gran_Turismo_7 GTA_V Ghost_of_Tsushima FIFA_22 UNCHARTED_4 A_Way_Out Death_Stranding The_Last_of_Us_Part_II It_Takes_Two\n",
            "UNCHARTED_4 God_of_War FIFA_22 Dying_Light_2\n",
            "Assassin's_Creed_Odyssey God_of_War UNCHARTED_4 A_Way_Out\n",
            "DAYS_GONE GTA_V The_Last_of_Us_Part_II God_of_War Ghost_of_Tsushima UNCHARTED_4 Spider-Man:Miles_Morales Death_Stranding Red_Dead_Redemption_2 A_Way_Out FIFA_22 Assassin's_Creed_Odyssey ARK:Survival_Evolved MAFIA_Trilogy Control\n",
            "Horizon_Forbidden_West Gran_Turismo_7 GTA_V Far_Cry_6 UNCHARTED_4 Dying_Light_2 The_Last_of_Us_Part_II Assassin's_Creed_Odyssey God_of_War\n",
            "Dying_Light_2 GTA_V UNCHARTED_4 God_of_War The_Last_of_Us_Part_II Spider-Man:Miles_Morales DAYS_GONE Gran_Turismo_7 It_Takes_Two Red_Dead_Redemption_2 ARK:Survival_Evolved Ghost_of_Tsushima FIFA_22 Assassin's_Creed_Odyssey Horizon_Forbidden_West Death_Stranding Far_Cry_6 Control\n",
            "God_of_War Red_Dead_Redemption_2 GTA_V UNCHARTED_4 Gran_Turismo_7 FIFA_22 Spider-Man:Miles_Morales DAYS_GONE The_Last_of_Us_Part_II A_Way_Out Ghost_of_Tsushima Assassin's_Creed_Odyssey\n",
            "FIFA_22 DAYS_GONE Horizon_Forbidden_West The_Last_of_Us_Part_II GTA_V A_Way_Out Dying_Light_2 God_of_War\n",
            "The_Last_of_Us_Part_II Horizon_Forbidden_West God_of_War A_Way_Out FIFA_22 Assassin's_Creed_Odyssey MAFIA_Trilogy Control Dying_Light_2 Spider-Man:Miles_Morales GTA_V Ghost_of_Tsushima Red_Dead_Redemption_2 Far_Cry_6 Gran_Turismo_7 It_Takes_Two ARK:Survival_Evolved Death_Stranding UNCHARTED_4\n",
            "Horizon_Forbidden_West UNCHARTED_4 God_of_War The_Last_of_Us_Part_II GTA_V\n"
          ]
        }
      ]
    },
    {
      "cell_type": "code",
      "source": [
        "import pandas as pd\n",
        "dataset = pd.read_csv(\"/content/hw1-files/q2/games_library.txt\", header=None)"
      ],
      "metadata": {
        "id": "uZKc_u8uSCd5"
      },
      "execution_count": 6,
      "outputs": []
    },
    {
      "cell_type": "code",
      "source": [
        "dataset"
      ],
      "metadata": {
        "colab": {
          "base_uri": "https://localhost:8080/",
          "height": 423
        },
        "id": "dVsWL7cYSKlo",
        "outputId": "4f87345c-84cc-45a8-877c-ccc90b798889"
      },
      "execution_count": 7,
      "outputs": [
        {
          "output_type": "execute_result",
          "data": {
            "text/plain": [
              "                                                       0\n",
              "0      Far_Cry_6 God_of_War Gran_Turismo_7 GTA_V Ghos...\n",
              "1           UNCHARTED_4 God_of_War FIFA_22 Dying_Light_2\n",
              "2      Assassin's_Creed_Odyssey God_of_War UNCHARTED_...\n",
              "3      DAYS_GONE GTA_V The_Last_of_Us_Part_II God_of_...\n",
              "4      Horizon_Forbidden_West Gran_Turismo_7 GTA_V Fa...\n",
              "...                                                  ...\n",
              "39995  Dying_Light_2 The_Last_of_Us_Part_II ARK:Survi...\n",
              "39996  Assassin's_Creed_Odyssey ARK:Survival_Evolved ...\n",
              "39997  UNCHARTED_4 MAFIA_Trilogy Dying_Light_2 Ghost_...\n",
              "39998  GTA_V The_Last_of_Us_Part_II It_Takes_Two UNCH...\n",
              "39999  UNCHARTED_4 FIFA_22 Ghost_of_Tsushima GTA_V A_...\n",
              "\n",
              "[40000 rows x 1 columns]"
            ],
            "text/html": [
              "\n",
              "  <div id=\"df-75074a64-784c-4720-b6ed-779bb55d6c02\">\n",
              "    <div class=\"colab-df-container\">\n",
              "      <div>\n",
              "<style scoped>\n",
              "    .dataframe tbody tr th:only-of-type {\n",
              "        vertical-align: middle;\n",
              "    }\n",
              "\n",
              "    .dataframe tbody tr th {\n",
              "        vertical-align: top;\n",
              "    }\n",
              "\n",
              "    .dataframe thead th {\n",
              "        text-align: right;\n",
              "    }\n",
              "</style>\n",
              "<table border=\"1\" class=\"dataframe\">\n",
              "  <thead>\n",
              "    <tr style=\"text-align: right;\">\n",
              "      <th></th>\n",
              "      <th>0</th>\n",
              "    </tr>\n",
              "  </thead>\n",
              "  <tbody>\n",
              "    <tr>\n",
              "      <th>0</th>\n",
              "      <td>Far_Cry_6 God_of_War Gran_Turismo_7 GTA_V Ghos...</td>\n",
              "    </tr>\n",
              "    <tr>\n",
              "      <th>1</th>\n",
              "      <td>UNCHARTED_4 God_of_War FIFA_22 Dying_Light_2</td>\n",
              "    </tr>\n",
              "    <tr>\n",
              "      <th>2</th>\n",
              "      <td>Assassin's_Creed_Odyssey God_of_War UNCHARTED_...</td>\n",
              "    </tr>\n",
              "    <tr>\n",
              "      <th>3</th>\n",
              "      <td>DAYS_GONE GTA_V The_Last_of_Us_Part_II God_of_...</td>\n",
              "    </tr>\n",
              "    <tr>\n",
              "      <th>4</th>\n",
              "      <td>Horizon_Forbidden_West Gran_Turismo_7 GTA_V Fa...</td>\n",
              "    </tr>\n",
              "    <tr>\n",
              "      <th>...</th>\n",
              "      <td>...</td>\n",
              "    </tr>\n",
              "    <tr>\n",
              "      <th>39995</th>\n",
              "      <td>Dying_Light_2 The_Last_of_Us_Part_II ARK:Survi...</td>\n",
              "    </tr>\n",
              "    <tr>\n",
              "      <th>39996</th>\n",
              "      <td>Assassin's_Creed_Odyssey ARK:Survival_Evolved ...</td>\n",
              "    </tr>\n",
              "    <tr>\n",
              "      <th>39997</th>\n",
              "      <td>UNCHARTED_4 MAFIA_Trilogy Dying_Light_2 Ghost_...</td>\n",
              "    </tr>\n",
              "    <tr>\n",
              "      <th>39998</th>\n",
              "      <td>GTA_V The_Last_of_Us_Part_II It_Takes_Two UNCH...</td>\n",
              "    </tr>\n",
              "    <tr>\n",
              "      <th>39999</th>\n",
              "      <td>UNCHARTED_4 FIFA_22 Ghost_of_Tsushima GTA_V A_...</td>\n",
              "    </tr>\n",
              "  </tbody>\n",
              "</table>\n",
              "<p>40000 rows × 1 columns</p>\n",
              "</div>\n",
              "      <button class=\"colab-df-convert\" onclick=\"convertToInteractive('df-75074a64-784c-4720-b6ed-779bb55d6c02')\"\n",
              "              title=\"Convert this dataframe to an interactive table.\"\n",
              "              style=\"display:none;\">\n",
              "        \n",
              "  <svg xmlns=\"http://www.w3.org/2000/svg\" height=\"24px\"viewBox=\"0 0 24 24\"\n",
              "       width=\"24px\">\n",
              "    <path d=\"M0 0h24v24H0V0z\" fill=\"none\"/>\n",
              "    <path d=\"M18.56 5.44l.94 2.06.94-2.06 2.06-.94-2.06-.94-.94-2.06-.94 2.06-2.06.94zm-11 1L8.5 8.5l.94-2.06 2.06-.94-2.06-.94L8.5 2.5l-.94 2.06-2.06.94zm10 10l.94 2.06.94-2.06 2.06-.94-2.06-.94-.94-2.06-.94 2.06-2.06.94z\"/><path d=\"M17.41 7.96l-1.37-1.37c-.4-.4-.92-.59-1.43-.59-.52 0-1.04.2-1.43.59L10.3 9.45l-7.72 7.72c-.78.78-.78 2.05 0 2.83L4 21.41c.39.39.9.59 1.41.59.51 0 1.02-.2 1.41-.59l7.78-7.78 2.81-2.81c.8-.78.8-2.07 0-2.86zM5.41 20L4 18.59l7.72-7.72 1.47 1.35L5.41 20z\"/>\n",
              "  </svg>\n",
              "      </button>\n",
              "      \n",
              "  <style>\n",
              "    .colab-df-container {\n",
              "      display:flex;\n",
              "      flex-wrap:wrap;\n",
              "      gap: 12px;\n",
              "    }\n",
              "\n",
              "    .colab-df-convert {\n",
              "      background-color: #E8F0FE;\n",
              "      border: none;\n",
              "      border-radius: 50%;\n",
              "      cursor: pointer;\n",
              "      display: none;\n",
              "      fill: #1967D2;\n",
              "      height: 32px;\n",
              "      padding: 0 0 0 0;\n",
              "      width: 32px;\n",
              "    }\n",
              "\n",
              "    .colab-df-convert:hover {\n",
              "      background-color: #E2EBFA;\n",
              "      box-shadow: 0px 1px 2px rgba(60, 64, 67, 0.3), 0px 1px 3px 1px rgba(60, 64, 67, 0.15);\n",
              "      fill: #174EA6;\n",
              "    }\n",
              "\n",
              "    [theme=dark] .colab-df-convert {\n",
              "      background-color: #3B4455;\n",
              "      fill: #D2E3FC;\n",
              "    }\n",
              "\n",
              "    [theme=dark] .colab-df-convert:hover {\n",
              "      background-color: #434B5C;\n",
              "      box-shadow: 0px 1px 3px 1px rgba(0, 0, 0, 0.15);\n",
              "      filter: drop-shadow(0px 1px 2px rgba(0, 0, 0, 0.3));\n",
              "      fill: #FFFFFF;\n",
              "    }\n",
              "  </style>\n",
              "\n",
              "      <script>\n",
              "        const buttonEl =\n",
              "          document.querySelector('#df-75074a64-784c-4720-b6ed-779bb55d6c02 button.colab-df-convert');\n",
              "        buttonEl.style.display =\n",
              "          google.colab.kernel.accessAllowed ? 'block' : 'none';\n",
              "\n",
              "        async function convertToInteractive(key) {\n",
              "          const element = document.querySelector('#df-75074a64-784c-4720-b6ed-779bb55d6c02');\n",
              "          const dataTable =\n",
              "            await google.colab.kernel.invokeFunction('convertToInteractive',\n",
              "                                                     [key], {});\n",
              "          if (!dataTable) return;\n",
              "\n",
              "          const docLinkHtml = 'Like what you see? Visit the ' +\n",
              "            '<a target=\"_blank\" href=https://colab.research.google.com/notebooks/data_table.ipynb>data table notebook</a>'\n",
              "            + ' to learn more about interactive tables.';\n",
              "          element.innerHTML = '';\n",
              "          dataTable['output_type'] = 'display_data';\n",
              "          await google.colab.output.renderOutput(dataTable, element);\n",
              "          const docLink = document.createElement('div');\n",
              "          docLink.innerHTML = docLinkHtml;\n",
              "          element.appendChild(docLink);\n",
              "        }\n",
              "      </script>\n",
              "    </div>\n",
              "  </div>\n",
              "  "
            ]
          },
          "metadata": {},
          "execution_count": 7
        }
      ]
    },
    {
      "cell_type": "code",
      "source": [
        "dataset[0] = dataset[0].apply(lambda x: x.split(\" \"))"
      ],
      "metadata": {
        "id": "cjtWI_LeSLdp"
      },
      "execution_count": 11,
      "outputs": []
    },
    {
      "cell_type": "code",
      "source": [
        "dataset"
      ],
      "metadata": {
        "colab": {
          "base_uri": "https://localhost:8080/",
          "height": 423
        },
        "id": "uzGlhwDKXYkp",
        "outputId": "86436e37-899c-4d8a-e492-5ad1dd6ea072"
      },
      "execution_count": 12,
      "outputs": [
        {
          "output_type": "execute_result",
          "data": {
            "text/plain": [
              "                                                       0\n",
              "0      [Far_Cry_6, God_of_War, Gran_Turismo_7, GTA_V,...\n",
              "1      [UNCHARTED_4, God_of_War, FIFA_22, Dying_Light_2]\n",
              "2      [Assassin's_Creed_Odyssey, God_of_War, UNCHART...\n",
              "3      [DAYS_GONE, GTA_V, The_Last_of_Us_Part_II, God...\n",
              "4      [Horizon_Forbidden_West, Gran_Turismo_7, GTA_V...\n",
              "...                                                  ...\n",
              "39995  [Dying_Light_2, The_Last_of_Us_Part_II, ARK:Su...\n",
              "39996  [Assassin's_Creed_Odyssey, ARK:Survival_Evolve...\n",
              "39997  [UNCHARTED_4, MAFIA_Trilogy, Dying_Light_2, Gh...\n",
              "39998  [GTA_V, The_Last_of_Us_Part_II, It_Takes_Two, ...\n",
              "39999  [UNCHARTED_4, FIFA_22, Ghost_of_Tsushima, GTA_...\n",
              "\n",
              "[40000 rows x 1 columns]"
            ],
            "text/html": [
              "\n",
              "  <div id=\"df-956fe171-f932-4b2f-a54b-6f38b8d5b8d1\">\n",
              "    <div class=\"colab-df-container\">\n",
              "      <div>\n",
              "<style scoped>\n",
              "    .dataframe tbody tr th:only-of-type {\n",
              "        vertical-align: middle;\n",
              "    }\n",
              "\n",
              "    .dataframe tbody tr th {\n",
              "        vertical-align: top;\n",
              "    }\n",
              "\n",
              "    .dataframe thead th {\n",
              "        text-align: right;\n",
              "    }\n",
              "</style>\n",
              "<table border=\"1\" class=\"dataframe\">\n",
              "  <thead>\n",
              "    <tr style=\"text-align: right;\">\n",
              "      <th></th>\n",
              "      <th>0</th>\n",
              "    </tr>\n",
              "  </thead>\n",
              "  <tbody>\n",
              "    <tr>\n",
              "      <th>0</th>\n",
              "      <td>[Far_Cry_6, God_of_War, Gran_Turismo_7, GTA_V,...</td>\n",
              "    </tr>\n",
              "    <tr>\n",
              "      <th>1</th>\n",
              "      <td>[UNCHARTED_4, God_of_War, FIFA_22, Dying_Light_2]</td>\n",
              "    </tr>\n",
              "    <tr>\n",
              "      <th>2</th>\n",
              "      <td>[Assassin's_Creed_Odyssey, God_of_War, UNCHART...</td>\n",
              "    </tr>\n",
              "    <tr>\n",
              "      <th>3</th>\n",
              "      <td>[DAYS_GONE, GTA_V, The_Last_of_Us_Part_II, God...</td>\n",
              "    </tr>\n",
              "    <tr>\n",
              "      <th>4</th>\n",
              "      <td>[Horizon_Forbidden_West, Gran_Turismo_7, GTA_V...</td>\n",
              "    </tr>\n",
              "    <tr>\n",
              "      <th>...</th>\n",
              "      <td>...</td>\n",
              "    </tr>\n",
              "    <tr>\n",
              "      <th>39995</th>\n",
              "      <td>[Dying_Light_2, The_Last_of_Us_Part_II, ARK:Su...</td>\n",
              "    </tr>\n",
              "    <tr>\n",
              "      <th>39996</th>\n",
              "      <td>[Assassin's_Creed_Odyssey, ARK:Survival_Evolve...</td>\n",
              "    </tr>\n",
              "    <tr>\n",
              "      <th>39997</th>\n",
              "      <td>[UNCHARTED_4, MAFIA_Trilogy, Dying_Light_2, Gh...</td>\n",
              "    </tr>\n",
              "    <tr>\n",
              "      <th>39998</th>\n",
              "      <td>[GTA_V, The_Last_of_Us_Part_II, It_Takes_Two, ...</td>\n",
              "    </tr>\n",
              "    <tr>\n",
              "      <th>39999</th>\n",
              "      <td>[UNCHARTED_4, FIFA_22, Ghost_of_Tsushima, GTA_...</td>\n",
              "    </tr>\n",
              "  </tbody>\n",
              "</table>\n",
              "<p>40000 rows × 1 columns</p>\n",
              "</div>\n",
              "      <button class=\"colab-df-convert\" onclick=\"convertToInteractive('df-956fe171-f932-4b2f-a54b-6f38b8d5b8d1')\"\n",
              "              title=\"Convert this dataframe to an interactive table.\"\n",
              "              style=\"display:none;\">\n",
              "        \n",
              "  <svg xmlns=\"http://www.w3.org/2000/svg\" height=\"24px\"viewBox=\"0 0 24 24\"\n",
              "       width=\"24px\">\n",
              "    <path d=\"M0 0h24v24H0V0z\" fill=\"none\"/>\n",
              "    <path d=\"M18.56 5.44l.94 2.06.94-2.06 2.06-.94-2.06-.94-.94-2.06-.94 2.06-2.06.94zm-11 1L8.5 8.5l.94-2.06 2.06-.94-2.06-.94L8.5 2.5l-.94 2.06-2.06.94zm10 10l.94 2.06.94-2.06 2.06-.94-2.06-.94-.94-2.06-.94 2.06-2.06.94z\"/><path d=\"M17.41 7.96l-1.37-1.37c-.4-.4-.92-.59-1.43-.59-.52 0-1.04.2-1.43.59L10.3 9.45l-7.72 7.72c-.78.78-.78 2.05 0 2.83L4 21.41c.39.39.9.59 1.41.59.51 0 1.02-.2 1.41-.59l7.78-7.78 2.81-2.81c.8-.78.8-2.07 0-2.86zM5.41 20L4 18.59l7.72-7.72 1.47 1.35L5.41 20z\"/>\n",
              "  </svg>\n",
              "      </button>\n",
              "      \n",
              "  <style>\n",
              "    .colab-df-container {\n",
              "      display:flex;\n",
              "      flex-wrap:wrap;\n",
              "      gap: 12px;\n",
              "    }\n",
              "\n",
              "    .colab-df-convert {\n",
              "      background-color: #E8F0FE;\n",
              "      border: none;\n",
              "      border-radius: 50%;\n",
              "      cursor: pointer;\n",
              "      display: none;\n",
              "      fill: #1967D2;\n",
              "      height: 32px;\n",
              "      padding: 0 0 0 0;\n",
              "      width: 32px;\n",
              "    }\n",
              "\n",
              "    .colab-df-convert:hover {\n",
              "      background-color: #E2EBFA;\n",
              "      box-shadow: 0px 1px 2px rgba(60, 64, 67, 0.3), 0px 1px 3px 1px rgba(60, 64, 67, 0.15);\n",
              "      fill: #174EA6;\n",
              "    }\n",
              "\n",
              "    [theme=dark] .colab-df-convert {\n",
              "      background-color: #3B4455;\n",
              "      fill: #D2E3FC;\n",
              "    }\n",
              "\n",
              "    [theme=dark] .colab-df-convert:hover {\n",
              "      background-color: #434B5C;\n",
              "      box-shadow: 0px 1px 3px 1px rgba(0, 0, 0, 0.15);\n",
              "      filter: drop-shadow(0px 1px 2px rgba(0, 0, 0, 0.3));\n",
              "      fill: #FFFFFF;\n",
              "    }\n",
              "  </style>\n",
              "\n",
              "      <script>\n",
              "        const buttonEl =\n",
              "          document.querySelector('#df-956fe171-f932-4b2f-a54b-6f38b8d5b8d1 button.colab-df-convert');\n",
              "        buttonEl.style.display =\n",
              "          google.colab.kernel.accessAllowed ? 'block' : 'none';\n",
              "\n",
              "        async function convertToInteractive(key) {\n",
              "          const element = document.querySelector('#df-956fe171-f932-4b2f-a54b-6f38b8d5b8d1');\n",
              "          const dataTable =\n",
              "            await google.colab.kernel.invokeFunction('convertToInteractive',\n",
              "                                                     [key], {});\n",
              "          if (!dataTable) return;\n",
              "\n",
              "          const docLinkHtml = 'Like what you see? Visit the ' +\n",
              "            '<a target=\"_blank\" href=https://colab.research.google.com/notebooks/data_table.ipynb>data table notebook</a>'\n",
              "            + ' to learn more about interactive tables.';\n",
              "          element.innerHTML = '';\n",
              "          dataTable['output_type'] = 'display_data';\n",
              "          await google.colab.output.renderOutput(dataTable, element);\n",
              "          const docLink = document.createElement('div');\n",
              "          docLink.innerHTML = docLinkHtml;\n",
              "          element.appendChild(docLink);\n",
              "        }\n",
              "      </script>\n",
              "    </div>\n",
              "  </div>\n",
              "  "
            ]
          },
          "metadata": {},
          "execution_count": 12
        }
      ]
    },
    {
      "cell_type": "code",
      "source": [
        "game_names = set()\n",
        "\n",
        "for i, game_list in dataset.iterrows():\n",
        "  print()\n",
        "  game_names.union(set(game_list[0])) "
      ],
      "metadata": {
        "id": "SlDshJf-XmXK"
      },
      "execution_count": 14,
      "outputs": []
    },
    {
      "cell_type": "code",
      "source": [
        "len(game_names)"
      ],
      "metadata": {
        "colab": {
          "base_uri": "https://localhost:8080/"
        },
        "id": "gFXB-F2PX5gi",
        "outputId": "2e9b24e9-1655-4f46-8b5c-7e28cba6f733"
      },
      "execution_count": 16,
      "outputs": [
        {
          "output_type": "execute_result",
          "data": {
            "text/plain": [
              "0"
            ]
          },
          "metadata": {},
          "execution_count": 16
        }
      ]
    },
    {
      "cell_type": "code",
      "source": [
        ""
      ],
      "metadata": {
        "id": "er3DjQWnY98w"
      },
      "execution_count": null,
      "outputs": []
    }
  ]
}