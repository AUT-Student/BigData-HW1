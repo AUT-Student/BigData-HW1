{
  "nbformat": 4,
  "nbformat_minor": 0,
  "metadata": {
    "colab": {
      "name": "BigData_HW1_Q2.ipynb",
      "provenance": [],
      "toc_visible": true,
      "authorship_tag": "ABX9TyNP1Vc752M9A46KmwocdK8g",
      "include_colab_link": true
    },
    "kernelspec": {
      "name": "python3",
      "display_name": "Python 3"
    },
    "language_info": {
      "name": "python"
    }
  },
  "cells": [
    {
      "cell_type": "markdown",
      "metadata": {
        "id": "view-in-github",
        "colab_type": "text"
      },
      "source": [
        "<a href=\"https://colab.research.google.com/github/AUT-Student/BigData-HW1/blob/main/BigData_HW1_Q2.ipynb\" target=\"_parent\"><img src=\"https://colab.research.google.com/assets/colab-badge.svg\" alt=\"Open In Colab\"/></a>"
      ]
    },
    {
      "cell_type": "markdown",
      "source": [
        "<center><b>In the name of God</b></center>\n",
        "\n",
        "<b>Course</b>: ‌Big Data\n",
        "<br>\n",
        "<b>Description:</b> HomeWork 1 | Question 2\n",
        "<br>\n",
        "<b>Developer</b>: Alireza Mazochi (400131075)"
      ],
      "metadata": {
        "id": "LJOVrA9MPvOD"
      }
    },
    {
      "cell_type": "markdown",
      "source": [
        "# Load and Prepare Dataset"
      ],
      "metadata": {
        "id": "w8XVCHmNRmAp"
      }
    },
    {
      "cell_type": "code",
      "execution_count": 1,
      "metadata": {
        "colab": {
          "base_uri": "https://localhost:8080/"
        },
        "id": "qfmx2q5rQ625",
        "outputId": "a16e53d3-75d5-4c39-fe7c-f67e36a44222"
      },
      "outputs": [
        {
          "output_type": "stream",
          "name": "stdout",
          "text": [
            "Archive:  hw1.zip\n",
            "replace hw1-files/q3/patches.csv? [y]es, [n]o, [A]ll, [N]one, [r]ename: A\n",
            "  inflating: hw1-files/q3/patches.csv  A\n",
            "A\n",
            "\n",
            "  inflating: hw1-files/q3/lsh.py     \n",
            "  inflating: hw1-files/q1/dataset1.txt  \n",
            "  inflating: hw1-files/q2/games_library.txt  \n"
          ]
        }
      ],
      "source": [
        "from pydrive.auth import GoogleAuth\n",
        "from pydrive.drive import GoogleDrive\n",
        "from google.colab import auth\n",
        "from oauth2client.client import GoogleCredentials\n",
        "\n",
        "# Authenticate and create the PyDrive client\n",
        "auth.authenticate_user()\n",
        "gauth = GoogleAuth()\n",
        "gauth.credentials = GoogleCredentials.get_application_default()\n",
        "drive = GoogleDrive(gauth)\n",
        "\n",
        "id='1-OCBGBtKoY_PadKHcXDyWxHQ2BS8Nulo'\n",
        "downloaded = drive.CreateFile({'id': id})\n",
        "downloaded.GetContentFile('hw1.zip')\n",
        "\n",
        "!unzip hw1.zip"
      ]
    },
    {
      "cell_type": "code",
      "source": [
        "import pandas as pd\n",
        "dataset = pd.read_csv(\"/content/hw1-files/q2/games_library.txt\", header=None)"
      ],
      "metadata": {
        "id": "uZKc_u8uSCd5"
      },
      "execution_count": 2,
      "outputs": []
    },
    {
      "cell_type": "code",
      "source": [
        "dataset[0] = dataset[0].apply(lambda x: x.split(\" \"))"
      ],
      "metadata": {
        "id": "cjtWI_LeSLdp"
      },
      "execution_count": 3,
      "outputs": []
    },
    {
      "cell_type": "code",
      "source": [
        "dataset"
      ],
      "metadata": {
        "colab": {
          "base_uri": "https://localhost:8080/",
          "height": 423
        },
        "id": "uzGlhwDKXYkp",
        "outputId": "7c82ac9d-a829-4d60-e2fb-8420b1bb7753"
      },
      "execution_count": 4,
      "outputs": [
        {
          "output_type": "execute_result",
          "data": {
            "text/plain": [
              "                                                       0\n",
              "0      [Far_Cry_6, God_of_War, Gran_Turismo_7, GTA_V,...\n",
              "1      [UNCHARTED_4, God_of_War, FIFA_22, Dying_Light_2]\n",
              "2      [Assassin's_Creed_Odyssey, God_of_War, UNCHART...\n",
              "3      [DAYS_GONE, GTA_V, The_Last_of_Us_Part_II, God...\n",
              "4      [Horizon_Forbidden_West, Gran_Turismo_7, GTA_V...\n",
              "...                                                  ...\n",
              "39995  [Dying_Light_2, The_Last_of_Us_Part_II, ARK:Su...\n",
              "39996  [Assassin's_Creed_Odyssey, ARK:Survival_Evolve...\n",
              "39997  [UNCHARTED_4, MAFIA_Trilogy, Dying_Light_2, Gh...\n",
              "39998  [GTA_V, The_Last_of_Us_Part_II, It_Takes_Two, ...\n",
              "39999  [UNCHARTED_4, FIFA_22, Ghost_of_Tsushima, GTA_...\n",
              "\n",
              "[40000 rows x 1 columns]"
            ],
            "text/html": [
              "\n",
              "  <div id=\"df-d5c8ca9c-781b-4c21-b461-18a3b19893bd\">\n",
              "    <div class=\"colab-df-container\">\n",
              "      <div>\n",
              "<style scoped>\n",
              "    .dataframe tbody tr th:only-of-type {\n",
              "        vertical-align: middle;\n",
              "    }\n",
              "\n",
              "    .dataframe tbody tr th {\n",
              "        vertical-align: top;\n",
              "    }\n",
              "\n",
              "    .dataframe thead th {\n",
              "        text-align: right;\n",
              "    }\n",
              "</style>\n",
              "<table border=\"1\" class=\"dataframe\">\n",
              "  <thead>\n",
              "    <tr style=\"text-align: right;\">\n",
              "      <th></th>\n",
              "      <th>0</th>\n",
              "    </tr>\n",
              "  </thead>\n",
              "  <tbody>\n",
              "    <tr>\n",
              "      <th>0</th>\n",
              "      <td>[Far_Cry_6, God_of_War, Gran_Turismo_7, GTA_V,...</td>\n",
              "    </tr>\n",
              "    <tr>\n",
              "      <th>1</th>\n",
              "      <td>[UNCHARTED_4, God_of_War, FIFA_22, Dying_Light_2]</td>\n",
              "    </tr>\n",
              "    <tr>\n",
              "      <th>2</th>\n",
              "      <td>[Assassin's_Creed_Odyssey, God_of_War, UNCHART...</td>\n",
              "    </tr>\n",
              "    <tr>\n",
              "      <th>3</th>\n",
              "      <td>[DAYS_GONE, GTA_V, The_Last_of_Us_Part_II, God...</td>\n",
              "    </tr>\n",
              "    <tr>\n",
              "      <th>4</th>\n",
              "      <td>[Horizon_Forbidden_West, Gran_Turismo_7, GTA_V...</td>\n",
              "    </tr>\n",
              "    <tr>\n",
              "      <th>...</th>\n",
              "      <td>...</td>\n",
              "    </tr>\n",
              "    <tr>\n",
              "      <th>39995</th>\n",
              "      <td>[Dying_Light_2, The_Last_of_Us_Part_II, ARK:Su...</td>\n",
              "    </tr>\n",
              "    <tr>\n",
              "      <th>39996</th>\n",
              "      <td>[Assassin's_Creed_Odyssey, ARK:Survival_Evolve...</td>\n",
              "    </tr>\n",
              "    <tr>\n",
              "      <th>39997</th>\n",
              "      <td>[UNCHARTED_4, MAFIA_Trilogy, Dying_Light_2, Gh...</td>\n",
              "    </tr>\n",
              "    <tr>\n",
              "      <th>39998</th>\n",
              "      <td>[GTA_V, The_Last_of_Us_Part_II, It_Takes_Two, ...</td>\n",
              "    </tr>\n",
              "    <tr>\n",
              "      <th>39999</th>\n",
              "      <td>[UNCHARTED_4, FIFA_22, Ghost_of_Tsushima, GTA_...</td>\n",
              "    </tr>\n",
              "  </tbody>\n",
              "</table>\n",
              "<p>40000 rows × 1 columns</p>\n",
              "</div>\n",
              "      <button class=\"colab-df-convert\" onclick=\"convertToInteractive('df-d5c8ca9c-781b-4c21-b461-18a3b19893bd')\"\n",
              "              title=\"Convert this dataframe to an interactive table.\"\n",
              "              style=\"display:none;\">\n",
              "        \n",
              "  <svg xmlns=\"http://www.w3.org/2000/svg\" height=\"24px\"viewBox=\"0 0 24 24\"\n",
              "       width=\"24px\">\n",
              "    <path d=\"M0 0h24v24H0V0z\" fill=\"none\"/>\n",
              "    <path d=\"M18.56 5.44l.94 2.06.94-2.06 2.06-.94-2.06-.94-.94-2.06-.94 2.06-2.06.94zm-11 1L8.5 8.5l.94-2.06 2.06-.94-2.06-.94L8.5 2.5l-.94 2.06-2.06.94zm10 10l.94 2.06.94-2.06 2.06-.94-2.06-.94-.94-2.06-.94 2.06-2.06.94z\"/><path d=\"M17.41 7.96l-1.37-1.37c-.4-.4-.92-.59-1.43-.59-.52 0-1.04.2-1.43.59L10.3 9.45l-7.72 7.72c-.78.78-.78 2.05 0 2.83L4 21.41c.39.39.9.59 1.41.59.51 0 1.02-.2 1.41-.59l7.78-7.78 2.81-2.81c.8-.78.8-2.07 0-2.86zM5.41 20L4 18.59l7.72-7.72 1.47 1.35L5.41 20z\"/>\n",
              "  </svg>\n",
              "      </button>\n",
              "      \n",
              "  <style>\n",
              "    .colab-df-container {\n",
              "      display:flex;\n",
              "      flex-wrap:wrap;\n",
              "      gap: 12px;\n",
              "    }\n",
              "\n",
              "    .colab-df-convert {\n",
              "      background-color: #E8F0FE;\n",
              "      border: none;\n",
              "      border-radius: 50%;\n",
              "      cursor: pointer;\n",
              "      display: none;\n",
              "      fill: #1967D2;\n",
              "      height: 32px;\n",
              "      padding: 0 0 0 0;\n",
              "      width: 32px;\n",
              "    }\n",
              "\n",
              "    .colab-df-convert:hover {\n",
              "      background-color: #E2EBFA;\n",
              "      box-shadow: 0px 1px 2px rgba(60, 64, 67, 0.3), 0px 1px 3px 1px rgba(60, 64, 67, 0.15);\n",
              "      fill: #174EA6;\n",
              "    }\n",
              "\n",
              "    [theme=dark] .colab-df-convert {\n",
              "      background-color: #3B4455;\n",
              "      fill: #D2E3FC;\n",
              "    }\n",
              "\n",
              "    [theme=dark] .colab-df-convert:hover {\n",
              "      background-color: #434B5C;\n",
              "      box-shadow: 0px 1px 3px 1px rgba(0, 0, 0, 0.15);\n",
              "      filter: drop-shadow(0px 1px 2px rgba(0, 0, 0, 0.3));\n",
              "      fill: #FFFFFF;\n",
              "    }\n",
              "  </style>\n",
              "\n",
              "      <script>\n",
              "        const buttonEl =\n",
              "          document.querySelector('#df-d5c8ca9c-781b-4c21-b461-18a3b19893bd button.colab-df-convert');\n",
              "        buttonEl.style.display =\n",
              "          google.colab.kernel.accessAllowed ? 'block' : 'none';\n",
              "\n",
              "        async function convertToInteractive(key) {\n",
              "          const element = document.querySelector('#df-d5c8ca9c-781b-4c21-b461-18a3b19893bd');\n",
              "          const dataTable =\n",
              "            await google.colab.kernel.invokeFunction('convertToInteractive',\n",
              "                                                     [key], {});\n",
              "          if (!dataTable) return;\n",
              "\n",
              "          const docLinkHtml = 'Like what you see? Visit the ' +\n",
              "            '<a target=\"_blank\" href=https://colab.research.google.com/notebooks/data_table.ipynb>data table notebook</a>'\n",
              "            + ' to learn more about interactive tables.';\n",
              "          element.innerHTML = '';\n",
              "          dataTable['output_type'] = 'display_data';\n",
              "          await google.colab.output.renderOutput(dataTable, element);\n",
              "          const docLink = document.createElement('div');\n",
              "          docLink.innerHTML = docLinkHtml;\n",
              "          element.appendChild(docLink);\n",
              "        }\n",
              "      </script>\n",
              "    </div>\n",
              "  </div>\n",
              "  "
            ]
          },
          "metadata": {},
          "execution_count": 4
        }
      ]
    },
    {
      "cell_type": "markdown",
      "source": [
        "# Pass 1"
      ],
      "metadata": {
        "id": "27BgIgjNcdBu"
      }
    },
    {
      "cell_type": "code",
      "source": [
        "SUPPORT_THRESHOLD = 100"
      ],
      "metadata": {
        "id": "ES0FkXTnINSW"
      },
      "execution_count": 5,
      "outputs": []
    },
    {
      "cell_type": "code",
      "source": [
        "support_unit = {}\n",
        "\n",
        "for _, game_list in dataset.iterrows():\n",
        "  for name in game_list[0]:\n",
        "    if support_unit.get(name) is None:\n",
        "      support_unit[name] = 0\n",
        "\n",
        "    support_unit[name] += 1"
      ],
      "metadata": {
        "id": "SlDshJf-XmXK"
      },
      "execution_count": 6,
      "outputs": []
    },
    {
      "cell_type": "code",
      "source": [
        "frequent_unit = []\n",
        "\n",
        "for game_name in support_unit:\n",
        "  if support_unit[game_name] >= SUPPORT_THRESHOLD:\n",
        "    frequent_unit.append(game_name)\n",
        "\n",
        "frequent_unit = sorted(frequent_unit)"
      ],
      "metadata": {
        "id": "k3pIeAngACM2"
      },
      "execution_count": 7,
      "outputs": []
    },
    {
      "cell_type": "markdown",
      "source": [
        "# Pass 2"
      ],
      "metadata": {
        "id": "zxI4f-Ei_z9K"
      }
    },
    {
      "cell_type": "code",
      "source": [
        "support_pair = {}\n",
        "for i, game_name1 in enumerate(frequent_unit):\n",
        "  for j, game_name2 in enumerate(frequent_unit):\n",
        "    if i < j:\n",
        "        support_pair[(game_name1, game_name2)] = 0"
      ],
      "metadata": {
        "id": "Ioq8ZMjsa388"
      },
      "execution_count": 8,
      "outputs": []
    },
    {
      "cell_type": "code",
      "source": [
        "for _, game_list in dataset.iterrows():\n",
        "  game_list_names = sorted(game_list[0])\n",
        "\n",
        "  for i, game_name1 in enumerate(game_list_names):\n",
        "    for j, game_name2 in enumerate(game_list_names):\n",
        "      if i<j and support_pair.get((game_name1, game_name2)) is not None:\n",
        "        support_pair[(game_name1, game_name2)] += 1"
      ],
      "metadata": {
        "id": "pwzi5Jm1cjma"
      },
      "execution_count": 9,
      "outputs": []
    },
    {
      "cell_type": "code",
      "source": [
        "frequent_pair = []\n",
        "\n",
        "for pair in support_pair:\n",
        "  if support_pair[pair] >= SUPPORT_THRESHOLD:\n",
        "    frequent_pair.append(pair)\n",
        "\n",
        "frequent_pair = sorted(frequent_pair)"
      ],
      "metadata": {
        "id": "NvrsqAKqfwI4"
      },
      "execution_count": 10,
      "outputs": []
    },
    {
      "cell_type": "code",
      "source": [
        "def calculate_confidence_pair(left, right):\n",
        "  return support_pair[tuple(sorted([right, left]))] / support_unit[left]"
      ],
      "metadata": {
        "id": "vy2_p-27f7RD"
      },
      "execution_count": 11,
      "outputs": []
    },
    {
      "cell_type": "code",
      "source": [
        "confidence_pair = []\n",
        "\n",
        "for pair in frequent_pair:\n",
        "  confidence_pair.append({\"rule_left\": pair[0],\"rule_right\": pair[1], \"confidence\": calculate_confidence_pair(left=pair[0], right=pair[1])})\n",
        "  confidence_pair.append({\"rule_left\": pair[1],\"rule_right\": pair[0], \"confidence\": calculate_confidence_pair(left=pair[1], right=pair[0])})"
      ],
      "metadata": {
        "id": "4WtXRzutLPyN"
      },
      "execution_count": 12,
      "outputs": []
    },
    {
      "cell_type": "code",
      "source": [
        "sorted(confidence_pair, key=lambda item: (-item[\"confidence\"], (item[\"rule_left\"], item[\"rule_right\"])))[:5]"
      ],
      "metadata": {
        "colab": {
          "base_uri": "https://localhost:8080/"
        },
        "id": "OuuRt7uYQALe",
        "outputId": "bfaa15b2-de92-4ae7-bd98-2c10785483f4"
      },
      "execution_count": 13,
      "outputs": [
        {
          "output_type": "execute_result",
          "data": {
            "text/plain": [
              "[{'confidence': 0.9150213718705476,\n",
              "  'rule_left': 'Dying_Light_2',\n",
              "  'rule_right': 'The_Last_of_Us_Part_II'},\n",
              " {'confidence': 0.9136672282636442,\n",
              "  'rule_left': 'ARK:Survival_Evolved',\n",
              "  'rule_right': 'The_Last_of_Us_Part_II'},\n",
              " {'confidence': 0.9136161739929545,\n",
              "  'rule_left': 'ARK:Survival_Evolved',\n",
              "  'rule_right': 'GTA_V'},\n",
              " {'confidence': 0.9125440343084699,\n",
              "  'rule_left': 'ARK:Survival_Evolved',\n",
              "  'rule_right': 'UNCHARTED_4'},\n",
              " {'confidence': 0.9119608941392128,\n",
              "  'rule_left': 'Ghost_of_Tsushima',\n",
              "  'rule_right': 'UNCHARTED_4'}]"
            ]
          },
          "metadata": {},
          "execution_count": 13
        }
      ]
    },
    {
      "cell_type": "markdown",
      "source": [
        "# Pass 3"
      ],
      "metadata": {
        "id": "_UbCOsif_4ho"
      }
    },
    {
      "cell_type": "code",
      "source": [
        "support_triple = {}\n",
        "\n",
        "for pair in frequent_pair:\n",
        "  for unit in frequent_unit:\n",
        "    # Check not equality of unit and the two others\n",
        "    if unit != pair[0] and unit != pair[1]:\n",
        "      # Check order\n",
        "      if unit < pair[0]:\n",
        "        triple = (unit, pair[0], pair[1])\n",
        "        # Check frequency of all pairs\n",
        "        if (unit, pair[0]) in frequent_pair and (unit, pair[1]) in frequent_pair:\n",
        "          support_triple[triple] = 0"
      ],
      "metadata": {
        "id": "ssXLYSFOQBUt"
      },
      "execution_count": 14,
      "outputs": []
    },
    {
      "cell_type": "code",
      "source": [
        "for _, game_list in dataset.iterrows():\n",
        "  game_list_names = sorted(game_list[0])\n",
        "\n",
        "  for i, game_name1 in enumerate(game_list_names):\n",
        "    for j, game_name2 in enumerate(game_list_names):\n",
        "      for k, game_name3 in enumerate(game_list_names):\n",
        "        if i<j<k and support_triple.get((game_name1, game_name2, game_name3)) is not None:\n",
        "          support_triple[(game_name1, game_name2, game_name3)] += 1"
      ],
      "metadata": {
        "id": "DdizvS6TDSXl"
      },
      "execution_count": 15,
      "outputs": []
    },
    {
      "cell_type": "code",
      "source": [
        "frequent_triple = []\n",
        "\n",
        "for triple in support_triple:\n",
        "  if support_triple[triple] >= SUPPORT_THRESHOLD:\n",
        "    frequent_triple.append(triple)\n",
        "\n",
        "frequent_triple = sorted(frequent_triple)"
      ],
      "metadata": {
        "id": "I5gjCuBGDwVu"
      },
      "execution_count": 16,
      "outputs": []
    },
    {
      "cell_type": "code",
      "source": [
        "def calculate_confidence_triple(left, right):\n",
        "  return support_triple[tuple(sorted([left[0], left[1], right]))] / support_pair[tuple(sorted(left))]"
      ],
      "metadata": {
        "id": "D9UGoQUqFQJH"
      },
      "execution_count": 17,
      "outputs": []
    },
    {
      "cell_type": "code",
      "source": [
        "confidence_triple = []\n",
        "\n",
        "for triple in frequent_triple:\n",
        "  confidence_triple.append({\"rule_left\": (triple[0], triple[1]), \"rule_right\": triple[2], \"confidence\": calculate_confidence_triple(left=(triple[0], triple[1]), right=triple[2])})\n",
        "  confidence_triple.append({\"rule_left\": (triple[0], triple[2]), \"rule_right\": triple[1], \"confidence\": calculate_confidence_triple(left=(triple[0], triple[2]), right=triple[1])})\n",
        "  confidence_triple.append({\"rule_left\": (triple[1], triple[2]), \"rule_right\": triple[0], \"confidence\": calculate_confidence_triple(left=(triple[1], triple[2]), right=triple[0])})"
      ],
      "metadata": {
        "id": "vY4zg75YF3ti"
      },
      "execution_count": 18,
      "outputs": []
    },
    {
      "cell_type": "code",
      "source": [
        "sorted(confidence_triple, key=lambda item: (-item[\"confidence\"], (item[\"rule_left\"], item[\"rule_right\"])))[:5]"
      ],
      "metadata": {
        "colab": {
          "base_uri": "https://localhost:8080/"
        },
        "id": "aG1j_2z4ISnt",
        "outputId": "b9debb30-4e18-4436-e79b-b10cb9383733"
      },
      "execution_count": 19,
      "outputs": [
        {
          "output_type": "execute_result",
          "data": {
            "text/plain": [
              "[{'confidence': 0.9635825196094125,\n",
              "  'rule_left': (\"Assassin's_Creed_Odyssey\", 'DAYS_GONE'),\n",
              "  'rule_right': 'The_Last_of_Us_Part_II'},\n",
              " {'confidence': 0.9634772836731418,\n",
              "  'rule_left': ('A_Way_Out', 'Ghost_of_Tsushima'),\n",
              "  'rule_right': 'UNCHARTED_4'},\n",
              " {'confidence': 0.9633978459794316,\n",
              "  'rule_left': ('Far_Cry_6', 'Ghost_of_Tsushima'),\n",
              "  'rule_right': 'GTA_V'},\n",
              " {'confidence': 0.9633881975110398,\n",
              "  'rule_left': ('ARK:Survival_Evolved', 'Red_Dead_Redemption_2'),\n",
              "  'rule_right': 'UNCHARTED_4'},\n",
              " {'confidence': 0.9633336001921383,\n",
              "  'rule_left': ('Ghost_of_Tsushima', 'Gran_Turismo_7'),\n",
              "  'rule_right': 'The_Last_of_Us_Part_II'}]"
            ]
          },
          "metadata": {},
          "execution_count": 19
        }
      ]
    }
  ]
}