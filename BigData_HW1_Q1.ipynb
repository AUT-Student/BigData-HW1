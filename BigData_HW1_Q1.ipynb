{
  "nbformat": 4,
  "nbformat_minor": 0,
  "metadata": {
    "colab": {
      "name": "BigData_HW1_Q1.ipynb",
      "provenance": [],
      "collapsed_sections": [],
      "toc_visible": true,
      "authorship_tag": "ABX9TyOFG5A0pSzrufeKs/3SsclQ",
      "include_colab_link": true
    },
    "kernelspec": {
      "name": "python3",
      "display_name": "Python 3"
    },
    "language_info": {
      "name": "python"
    }
  },
  "cells": [
    {
      "cell_type": "markdown",
      "metadata": {
        "id": "view-in-github",
        "colab_type": "text"
      },
      "source": [
        "<a href=\"https://colab.research.google.com/github/AUT-Student/BigData-HW1/blob/main/BigData_HW1_Q1.ipynb\" target=\"_parent\"><img src=\"https://colab.research.google.com/assets/colab-badge.svg\" alt=\"Open In Colab\"/></a>"
      ]
    },
    {
      "cell_type": "markdown",
      "source": [
        "<center><b>In the name of God</b></center>\n",
        "\n",
        "<b>Course</b>: ‌Big Data\n",
        "<br>\n",
        "<b>Description:</b> HomeWork 1 | Question 1\n",
        "<br>\n",
        "<b>Developer</b>: Alireza Mazochi (400131075)"
      ],
      "metadata": {
        "id": "iQecaNFCPn3C"
      }
    },
    {
      "cell_type": "markdown",
      "source": [
        "# PySpark Setting"
      ],
      "metadata": {
        "id": "zjwNOXx36Dsf"
      }
    },
    {
      "cell_type": "code",
      "source": [
        "!pip install pyspark"
      ],
      "metadata": {
        "colab": {
          "base_uri": "https://localhost:8080/"
        },
        "id": "Ktq9IKkWA0rl",
        "outputId": "85161a8c-70f9-4857-a170-2c489218d1ca"
      },
      "execution_count": 1,
      "outputs": [
        {
          "output_type": "stream",
          "name": "stdout",
          "text": [
            "Collecting pyspark\n",
            "  Downloading pyspark-3.2.1.tar.gz (281.4 MB)\n",
            "\u001b[K     |████████████████████████████████| 281.4 MB 28 kB/s \n",
            "\u001b[?25hCollecting py4j==0.10.9.3\n",
            "  Downloading py4j-0.10.9.3-py2.py3-none-any.whl (198 kB)\n",
            "\u001b[K     |████████████████████████████████| 198 kB 52.6 MB/s \n",
            "\u001b[?25hBuilding wheels for collected packages: pyspark\n",
            "  Building wheel for pyspark (setup.py) ... \u001b[?25l\u001b[?25hdone\n",
            "  Created wheel for pyspark: filename=pyspark-3.2.1-py2.py3-none-any.whl size=281853642 sha256=b1781dc1aee088381c44ed1e8ab5f7278dca36f64ecb155cbccaf91d802e6b3e\n",
            "  Stored in directory: /root/.cache/pip/wheels/9f/f5/07/7cd8017084dce4e93e84e92efd1e1d5334db05f2e83bcef74f\n",
            "Successfully built pyspark\n",
            "Installing collected packages: py4j, pyspark\n",
            "Successfully installed py4j-0.10.9.3 pyspark-3.2.1\n"
          ]
        }
      ]
    },
    {
      "cell_type": "code",
      "source": [
        "from pyspark.sql import SparkSession\n",
        "\n",
        "spark = SparkSession.builder\\\n",
        "        .master(\"local\")\\\n",
        "        .appName(\"Colab\")\\\n",
        "        .config('spark.ui.port', '4050')\\\n",
        "        .getOrCreate()"
      ],
      "metadata": {
        "id": "ZFrL47YaFO--"
      },
      "execution_count": 2,
      "outputs": []
    },
    {
      "cell_type": "code",
      "source": [
        "spark"
      ],
      "metadata": {
        "colab": {
          "base_uri": "https://localhost:8080/",
          "height": 219
        },
        "id": "5o84n08UFUht",
        "outputId": "2b88429f-4ff2-4716-8405-f3cc2771474f"
      },
      "execution_count": 3,
      "outputs": [
        {
          "output_type": "execute_result",
          "data": {
            "text/plain": [
              "<pyspark.sql.session.SparkSession at 0x7f6eb43cb610>"
            ],
            "text/html": [
              "\n",
              "            <div>\n",
              "                <p><b>SparkSession - in-memory</b></p>\n",
              "                \n",
              "        <div>\n",
              "            <p><b>SparkContext</b></p>\n",
              "\n",
              "            <p><a href=\"http://87e008c9820f:4050\">Spark UI</a></p>\n",
              "\n",
              "            <dl>\n",
              "              <dt>Version</dt>\n",
              "                <dd><code>v3.2.1</code></dd>\n",
              "              <dt>Master</dt>\n",
              "                <dd><code>local</code></dd>\n",
              "              <dt>AppName</dt>\n",
              "                <dd><code>Colab</code></dd>\n",
              "            </dl>\n",
              "        </div>\n",
              "        \n",
              "            </div>\n",
              "        "
            ]
          },
          "metadata": {},
          "execution_count": 3
        }
      ]
    },
    {
      "cell_type": "markdown",
      "source": [
        "# Load and Prepare Dataset"
      ],
      "metadata": {
        "id": "RNrnME9o55Vp"
      }
    },
    {
      "cell_type": "code",
      "source": [
        "from pydrive.auth import GoogleAuth\n",
        "from pydrive.drive import GoogleDrive\n",
        "from google.colab import auth\n",
        "from oauth2client.client import GoogleCredentials\n",
        "\n",
        "# Authenticate and create the PyDrive client\n",
        "auth.authenticate_user()\n",
        "gauth = GoogleAuth()\n",
        "gauth.credentials = GoogleCredentials.get_application_default()\n",
        "drive = GoogleDrive(gauth)\n",
        "\n",
        "id='1-OCBGBtKoY_PadKHcXDyWxHQ2BS8Nulo'\n",
        "downloaded = drive.CreateFile({'id': id})\n",
        "downloaded.GetContentFile('hw1.zip')\n",
        "\n",
        "!unzip hw1.zip"
      ],
      "metadata": {
        "colab": {
          "base_uri": "https://localhost:8080/"
        },
        "id": "VheUfI515cSh",
        "outputId": "a2cfaeb1-8336-4c6a-99c0-2e9d4cb60eda"
      },
      "execution_count": 7,
      "outputs": [
        {
          "output_type": "stream",
          "name": "stdout",
          "text": [
            "Archive:  hw1.zip\n",
            "   creating: hw1-files/\n",
            "   creating: hw1-files/q3/\n",
            "  inflating: hw1-files/q3/patches.csv  \n",
            "  inflating: hw1-files/q3/lsh.py     \n",
            "   creating: hw1-files/q1/\n",
            "  inflating: hw1-files/q1/dataset1.txt  \n",
            "   creating: hw1-files/q1/.ipynb_checkpoints/\n",
            "   creating: hw1-files/q2/\n",
            "  inflating: hw1-files/q2/games_library.txt  \n",
            "   creating: hw1-files/.ipynb_checkpoints/\n"
          ]
        }
      ]
    },
    {
      "cell_type": "code",
      "source": [
        "def convert_string_to_list(string):\n",
        "  if string==\"\":\n",
        "    return []\n",
        "  else:\n",
        "    return [int(item) for item in string.split(\",\")]"
      ],
      "metadata": {
        "id": "rLKw98C43GCQ"
      },
      "execution_count": 8,
      "outputs": []
    },
    {
      "cell_type": "code",
      "source": [
        "import pandas as pd\n",
        "df = pd.read_csv(\"/content/hw1-files/q1/dataset1.txt\", sep=\"\\t\",names=[\"id\", \"friend_id\"])"
      ],
      "metadata": {
        "id": "1aK_CHIJ4MaX"
      },
      "execution_count": 9,
      "outputs": []
    },
    {
      "cell_type": "code",
      "source": [
        "df = df.fillna(\"\")\n",
        "df[\"friend_id\"] = df[\"friend_id\"].apply(convert_string_to_list)"
      ],
      "metadata": {
        "id": "3gyCRwAp4OBB"
      },
      "execution_count": 10,
      "outputs": []
    },
    {
      "cell_type": "code",
      "source": [
        "rdd=spark.sparkContext.parallelize(df.to_dict('records'), 2)"
      ],
      "metadata": {
        "id": "ncWVBrXkYoky"
      },
      "execution_count": 11,
      "outputs": []
    },
    {
      "cell_type": "markdown",
      "source": [
        "# Map-Reduce"
      ],
      "metadata": {
        "id": "jGXm3rXlkVP9"
      }
    },
    {
      "cell_type": "code",
      "source": [
        "def map_function(item):\n",
        "  fids = sorted(item[\"friend_id\"])\n",
        "  output = []\n",
        "    \n",
        "  for fid1 in fids:\n",
        "    counter = {}\n",
        "    for fid2 in fids:\n",
        "\n",
        "      if fid1 != fid2:\n",
        "        counter[fid2] = 1\n",
        "    \n",
        "    output.append((fid1, counter))\n",
        "\n",
        "  return output"
      ],
      "metadata": {
        "id": "jJFsoV1GYV3A"
      },
      "execution_count": 21,
      "outputs": []
    },
    {
      "cell_type": "code",
      "source": [
        "from heapq import merge\n",
        "\n",
        "def reduce_function(value1, value2):\n",
        "  merged_ids = list(merge(value1.keys(), value2.keys()))\n",
        "\n",
        "  merged_value = {}\n",
        "  for id in merged_ids:\n",
        "    merged_value[id] = value1.get(id, 0) + value2.get(id, 0)\n",
        "\n",
        "  return merged_value"
      ],
      "metadata": {
        "id": "Ygz_WQHdZPKH"
      },
      "execution_count": 22,
      "outputs": []
    },
    {
      "cell_type": "code",
      "source": [
        "mapped_rdd = rdd.flatMap(map_function)"
      ],
      "metadata": {
        "id": "d977OcU0CyvG"
      },
      "execution_count": 23,
      "outputs": []
    },
    {
      "cell_type": "code",
      "source": [
        "reduced_rdd = mapped_rdd.reduceByKey(reduce_function)"
      ],
      "metadata": {
        "id": "haYgQrQHHigD"
      },
      "execution_count": 24,
      "outputs": []
    },
    {
      "cell_type": "code",
      "source": [
        "output_rdd = reduced_rdd.collect()"
      ],
      "metadata": {
        "id": "v8WZ7BD8enRH"
      },
      "execution_count": 25,
      "outputs": []
    },
    {
      "cell_type": "code",
      "source": [
        "def suggest_new_friend(id, number_top):\n",
        "  exist_friend_id = df[df[\"id\"]==id][\"friend_id\"].values[0]\n",
        "\n",
        "  for item in output_rdd:\n",
        "    if item[0]==id:\n",
        "      counter = item[1]\n",
        "      break\n",
        "\n",
        "  sorted_new_friend = sorted(counter, key=counter.get, reverse=True)\n",
        "\n",
        "  suggestion_list = []\n",
        "\n",
        "  for new_id in sorted_new_friend:\n",
        "    if new_id not in exist_friend_id:\n",
        "      suggestion_list.append(new_id)\n",
        "      if len(suggestion_list) == number_top:\n",
        "        break\n",
        "\n",
        "  return suggestion_list"
      ],
      "metadata": {
        "id": "COy5AqCfecx3"
      },
      "execution_count": 35,
      "outputs": []
    },
    {
      "cell_type": "markdown",
      "source": [
        "# Example"
      ],
      "metadata": {
        "id": "1TJVcHscjS24"
      }
    },
    {
      "cell_type": "code",
      "source": [
        "for id in [98, 135, 117, 911, 8804]:\n",
        "  print(f\"id = {id}\")\n",
        "  print(f\"Suggestion = {suggest_new_friend(id,10)}\\n\")"
      ],
      "metadata": {
        "colab": {
          "base_uri": "https://localhost:8080/"
        },
        "id": "LZ4qjdxIiT0e",
        "outputId": "f6464329-0dd7-4618-84ea-9ee0788dd9f9"
      },
      "execution_count": 36,
      "outputs": [
        {
          "output_type": "stream",
          "name": "stdout",
          "text": [
            "id = 98\n",
            "Suggestion = [18560, 2554, 13654, 16324, 16350, 30134, 30691, 17, 113, 134]\n",
            "\n",
            "id = 135\n",
            "Suggestion = [13792, 33060, 629, 5490, 19217, 25256, 34151, 34164, 34441, 45054]\n",
            "\n",
            "id = 117\n",
            "Suggestion = [34164, 12519, 13793, 15314, 23507, 23510, 25256, 34140, 34169, 34207]\n",
            "\n",
            "id = 911\n",
            "Suggestion = [24456, 39540, 40560, 30984, 30993, 30995, 30996, 33333, 37875, 41352]\n",
            "\n",
            "id = 8804\n",
            "Suggestion = [34179, 34332, 3230, 8677, 11399, 11400, 13182, 13872, 15207, 29745]\n",
            "\n"
          ]
        }
      ]
    }
  ]
}